{
  "nbformat": 4,
  "nbformat_minor": 0,
  "metadata": {
    "colab": {
      "provenance": []
    },
    "kernelspec": {
      "name": "python3",
      "display_name": "Python 3"
    },
    "language_info": {
      "name": "python"
    }
  },
  "cells": [
    {
      "cell_type": "code",
      "execution_count": 1,
      "metadata": {
        "id": "EO4bhqyIE2qt"
      },
      "outputs": [],
      "source": [
        "import numpy as np\n",
        "import string\n",
        "\n",
        "np.random.seed(1234)"
      ]
    },
    {
      "cell_type": "code",
      "source": [
        "initial = {} # start of a phrase\n",
        "first_order = {} # second word only\n",
        "second_order = {}"
      ],
      "metadata": {
        "id": "GIRmAEmUJQBJ"
      },
      "execution_count": 2,
      "outputs": []
    },
    {
      "cell_type": "code",
      "source": [
        "def remove_punctuation(s):\n",
        "    return s.translate(str.maketrans('','',string.punctuation))"
      ],
      "metadata": {
        "id": "wZGFpHzPJR_4"
      },
      "execution_count": 3,
      "outputs": []
    },
    {
      "cell_type": "code",
      "source": [
        "!wget -nc https://raw.githubusercontent.com/lazyprogrammer/machine_learning_examples/master/hmm_class/robert_frost.txt"
      ],
      "metadata": {
        "colab": {
          "base_uri": "https://localhost:8080/"
        },
        "id": "XwPsZiZRJUf1",
        "outputId": "b2f05bc6-793c-4e69-f211-64ac2bd26dfc"
      },
      "execution_count": 4,
      "outputs": [
        {
          "output_type": "stream",
          "name": "stdout",
          "text": [
            "--2023-12-25 22:43:06--  https://raw.githubusercontent.com/lazyprogrammer/machine_learning_examples/master/hmm_class/robert_frost.txt\n",
            "Resolving raw.githubusercontent.com (raw.githubusercontent.com)... 185.199.108.133, 185.199.109.133, 185.199.110.133, ...\n",
            "Connecting to raw.githubusercontent.com (raw.githubusercontent.com)|185.199.108.133|:443... connected.\n",
            "HTTP request sent, awaiting response... 200 OK\n",
            "Length: 56286 (55K) [text/plain]\n",
            "Saving to: ‘robert_frost.txt’\n",
            "\n",
            "\rrobert_frost.txt      0%[                    ]       0  --.-KB/s               \rrobert_frost.txt    100%[===================>]  54.97K  --.-KB/s    in 0.01s   \n",
            "\n",
            "2023-12-25 22:43:07 (4.76 MB/s) - ‘robert_frost.txt’ saved [56286/56286]\n",
            "\n"
          ]
        }
      ]
    },
    {
      "cell_type": "code",
      "source": [
        "def add2dict(d, k, v):\n",
        "  if k not in d:\n",
        "    d[k] = []\n",
        "  d[k].append(v)"
      ],
      "metadata": {
        "id": "6kIm1F1OJWUa"
      },
      "execution_count": 5,
      "outputs": []
    },
    {
      "cell_type": "code",
      "source": [
        "for line in open('robert_frost.txt'):\n",
        "  tokens = remove_punctuation(line.rstrip().lower()).split()\n",
        "\n",
        "  T = len(tokens)\n",
        "  for i in range(T):\n",
        "    t = tokens[i]\n",
        "    if i == 0:\n",
        "      # measure the distribution of the first word\n",
        "      initial[t] = initial.get(t, 0.) + 1\n",
        "    else:\n",
        "      t_1 = tokens[i-1]\n",
        "      if i == T - 1:\n",
        "        # measure probability of ending the line\n",
        "        add2dict(second_order, (t_1, t), 'END')\n",
        "      if i == 1:\n",
        "        # measure distribution of second word\n",
        "        # given only first word\n",
        "        add2dict(first_order, t_1, t)\n",
        "      else:\n",
        "        t_2 = tokens[i-2]\n",
        "        add2dict(second_order, (t_2, t_1), t)"
      ],
      "metadata": {
        "id": "08YTWtj-JbKY"
      },
      "execution_count": 6,
      "outputs": []
    },
    {
      "cell_type": "code",
      "source": [
        "# normalize the distributions\n",
        "initial_total = sum(initial.values())\n",
        "for t, c in initial.items():\n",
        "    initial[t] = c / initial_total"
      ],
      "metadata": {
        "id": "z2A_vQd3J1Ha"
      },
      "execution_count": 7,
      "outputs": []
    },
    {
      "cell_type": "code",
      "source": [
        "# convert [cat, cat, cat, dog, dog, dog, dog, mouse, ...]\n",
        "# into {cat: 0.5, dog: 0.4, mouse: 0.1}\n",
        "\n",
        "def list2pdict(ts):\n",
        "  # turn each list of possibilities into a dictionary of probabilities\n",
        "  d = {}\n",
        "  n = len(ts)\n",
        "  for t in ts:\n",
        "    d[t] = d.get(t, 0.) + 1\n",
        "  for t, c in d.items():\n",
        "    d[t] = c / n\n",
        "  return d"
      ],
      "metadata": {
        "id": "wlmszHDcKBmT"
      },
      "execution_count": 8,
      "outputs": []
    },
    {
      "cell_type": "code",
      "source": [
        "for t_1, ts in first_order.items():\n",
        "  # replace list with dictionary of probabilities\n",
        "  first_order[t_1] = list2pdict(ts)"
      ],
      "metadata": {
        "id": "QaY1lOUZLws-"
      },
      "execution_count": 9,
      "outputs": []
    },
    {
      "cell_type": "code",
      "source": [
        "for k, ts in second_order.items():\n",
        "  second_order[k] = list2pdict(ts)"
      ],
      "metadata": {
        "id": "BPDAjPWnMEna"
      },
      "execution_count": 10,
      "outputs": []
    },
    {
      "cell_type": "code",
      "source": [
        "def sample_word(d):\n",
        "  # print \"d:\", d\n",
        "  p0 = np.random.random()\n",
        "  # print \"p0:\", p0\n",
        "  cumulative = 0\n",
        "  for t, p in d.items():\n",
        "    cumulative += p\n",
        "    if p0 < cumulative:\n",
        "      return t\n",
        "  assert(False) # should never get here"
      ],
      "metadata": {
        "id": "uV408q8HMO_V"
      },
      "execution_count": 11,
      "outputs": []
    },
    {
      "cell_type": "code",
      "source": [
        "def generate():\n",
        "  for i in range(4): # generate 4 lines\n",
        "    sentence = []\n",
        "\n",
        "    # initial word\n",
        "    w0 = sample_word(initial)\n",
        "    sentence.append(w0)\n",
        "\n",
        "    # sample second word\n",
        "    w1 = sample_word(first_order[w0])\n",
        "    sentence.append(w1)\n",
        "\n",
        "    # second-order transitions until END\n",
        "    while True:\n",
        "      w2 = sample_word(second_order[(w0, w1)])\n",
        "      if w2 == 'END':\n",
        "        break\n",
        "      sentence.append(w2)\n",
        "      w0 = w1\n",
        "      w1 = w2\n",
        "    print(' '.join(sentence))"
      ],
      "metadata": {
        "id": "Ed-sZcmfMZzY"
      },
      "execution_count": 12,
      "outputs": []
    },
    {
      "cell_type": "code",
      "source": [
        "generate()"
      ],
      "metadata": {
        "colab": {
          "base_uri": "https://localhost:8080/"
        },
        "id": "zsU8LnDaM8sT",
        "outputId": "20617623-d649-40b7-96a4-46c4b4df34be"
      },
      "execution_count": 13,
      "outputs": [
        {
          "output_type": "stream",
          "name": "stdout",
          "text": [
            "i went to bed alone and left me\n",
            "might just as empty\n",
            "but it isnt as if and thats not all the money goes so fast\n",
            "you couldnt call it living for it aint\n"
          ]
        }
      ]
    },
    {
      "cell_type": "code",
      "source": [],
      "metadata": {
        "id": "oxIZU57QNP6M"
      },
      "execution_count": null,
      "outputs": []
    }
  ]
}